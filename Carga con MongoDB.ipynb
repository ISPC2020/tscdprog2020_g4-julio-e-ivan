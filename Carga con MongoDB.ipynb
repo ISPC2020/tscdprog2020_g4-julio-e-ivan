{
 "cells": [
  {
   "cell_type": "code",
   "execution_count": 106,
   "metadata": {},
   "outputs": [],
   "source": [
    "from pymongo import MongoClient\n",
    "import pandas as pd\n",
    "#import matplotlib.pyplot as plt"
   ]
  },
  {
   "cell_type": "code",
   "execution_count": 96,
   "metadata": {},
   "outputs": [
    {
     "name": "stdout",
     "output_type": "stream",
     "text": [
      "Carga exitosa\n"
     ]
    }
   ],
   "source": [
    "client = MongoClient('localhost', 27017)\n",
    "db = client['CasosCOVID-19'] #cargo la BD a la variable db\n",
    "collection = db['CasosCOVID-19']\n",
    "df = pd.read_excel('D:\\Cs. de Datos\\Práctica Profesionalizante\\Covid-19\\CasosCOVID-19.xlsx')\n",
    "data = df.to_dict('records') #convierto los registros en formato dict y los cargo en la vble data\n",
    "collection.insert_many(data) #creo la colección, insertando lo cargado en data\n",
    "print(\"Carga exitosa\")"
   ]
  },
  {
   "cell_type": "code",
   "execution_count": 97,
   "metadata": {},
   "outputs": [
    {
     "name": "stdout",
     "output_type": "stream",
     "text": [
      "                                                 Fecha  \\\n",
      "0                                  2020-03-25 00:00:00   \n",
      "1                                  2020-03-26 00:00:00   \n",
      "2                                  2020-03-28 00:00:00   \n",
      "3                                  2020-03-29 00:00:00   \n",
      "4                                  2020-03-30 00:00:00   \n",
      "..                                                 ...   \n",
      "931  407 Hoy 27.08.2021 se notificaron 10 casos al ...   \n",
      "932  408 Hoy 28.08.2021 se notificaron 16 casos al ...   \n",
      "933  409 Hoy 29.08.2021 se notificaron 6 casos al S...   \n",
      "934  410 Hoy 30.08.2021 se notificaron 14 casos al ...   \n",
      "935  Fuente: Elaboración propia en base a Informe d...   \n",
      "\n",
      "     Casos registrados Ciudad de Córdoba (acumulado)  \\\n",
      "0                                               21.0   \n",
      "1                                               22.0   \n",
      "2                                               24.0   \n",
      "3                                               30.0   \n",
      "4                                               30.0   \n",
      "..                                               ...   \n",
      "931                                              NaN   \n",
      "932                                              NaN   \n",
      "933                                              NaN   \n",
      "934                                              NaN   \n",
      "935                                              NaN   \n",
      "\n",
      "     Casos registrados Provincia de Córdoba (acumulado)  \\\n",
      "0                                                 49.0    \n",
      "1                                                 52.0    \n",
      "2                                                 56.0    \n",
      "3                                                 73.0    \n",
      "4                                                 80.0    \n",
      "..                                                 ...    \n",
      "931                                                NaN    \n",
      "932                                                NaN    \n",
      "933                                                NaN    \n",
      "934                                                NaN    \n",
      "935                                                NaN    \n",
      "\n",
      "     Fallecidos Provincia de Córdoba (acumulado)  \\\n",
      "0                                            0.0   \n",
      "1                                            0.0   \n",
      "2                                            0.0   \n",
      "3                                            0.0   \n",
      "4                                            0.0   \n",
      "..                                           ...   \n",
      "931                                          NaN   \n",
      "932                                          NaN   \n",
      "933                                          NaN   \n",
      "934                                          NaN   \n",
      "935                                          NaN   \n",
      "\n",
      "    Nuevos casos registrados Ciudad de Córdoba  \\\n",
      "0                                          NaN   \n",
      "1                                            1   \n",
      "2                                            2   \n",
      "3                                            6   \n",
      "4                                            0   \n",
      "..                                         ...   \n",
      "931                                        NaN   \n",
      "932                                        NaN   \n",
      "933                                        NaN   \n",
      "934                                        NaN   \n",
      "935                                        NaN   \n",
      "\n",
      "    Nuevos casos registrados Provincia de Córdoba Notas al pie  \n",
      "0                                             NaN            -  \n",
      "1                                               3            -  \n",
      "2                                               4            -  \n",
      "3                                              17            -  \n",
      "4                                               7            -  \n",
      "..                                            ...          ...  \n",
      "931                                           NaN          NaN  \n",
      "932                                           NaN          NaN  \n",
      "933                                           NaN          NaN  \n",
      "934                                           NaN          NaN  \n",
      "935                                           NaN          NaN  \n",
      "\n",
      "[936 rows x 7 columns]\n"
     ]
    }
   ],
   "source": [
    "print(df)"
   ]
  },
  {
   "cell_type": "code",
   "execution_count": 98,
   "metadata": {},
   "outputs": [
    {
     "data": {
      "text/html": [
       "<div>\n",
       "<style scoped>\n",
       "    .dataframe tbody tr th:only-of-type {\n",
       "        vertical-align: middle;\n",
       "    }\n",
       "\n",
       "    .dataframe tbody tr th {\n",
       "        vertical-align: top;\n",
       "    }\n",
       "\n",
       "    .dataframe thead th {\n",
       "        text-align: right;\n",
       "    }\n",
       "</style>\n",
       "<table border=\"1\" class=\"dataframe\">\n",
       "  <thead>\n",
       "    <tr style=\"text-align: right;\">\n",
       "      <th></th>\n",
       "      <th>Fecha</th>\n",
       "      <th>Casos registrados Ciudad de Córdoba (acumulado)</th>\n",
       "      <th>Casos registrados Provincia de Córdoba (acumulado)</th>\n",
       "      <th>Fallecidos Provincia de Córdoba (acumulado)</th>\n",
       "      <th>Nuevos casos registrados Ciudad de Córdoba</th>\n",
       "      <th>Nuevos casos registrados Provincia de Córdoba</th>\n",
       "      <th>Notas al pie</th>\n",
       "    </tr>\n",
       "  </thead>\n",
       "  <tbody>\n",
       "    <tr>\n",
       "      <th>0</th>\n",
       "      <td>2020-03-25 00:00:00</td>\n",
       "      <td>21.0</td>\n",
       "      <td>49.0</td>\n",
       "      <td>0.0</td>\n",
       "      <td>NaN</td>\n",
       "      <td>NaN</td>\n",
       "      <td>-</td>\n",
       "    </tr>\n",
       "    <tr>\n",
       "      <th>1</th>\n",
       "      <td>2020-03-26 00:00:00</td>\n",
       "      <td>22.0</td>\n",
       "      <td>52.0</td>\n",
       "      <td>0.0</td>\n",
       "      <td>1</td>\n",
       "      <td>3</td>\n",
       "      <td>-</td>\n",
       "    </tr>\n",
       "    <tr>\n",
       "      <th>2</th>\n",
       "      <td>2020-03-28 00:00:00</td>\n",
       "      <td>24.0</td>\n",
       "      <td>56.0</td>\n",
       "      <td>0.0</td>\n",
       "      <td>2</td>\n",
       "      <td>4</td>\n",
       "      <td>-</td>\n",
       "    </tr>\n",
       "    <tr>\n",
       "      <th>3</th>\n",
       "      <td>2020-03-29 00:00:00</td>\n",
       "      <td>30.0</td>\n",
       "      <td>73.0</td>\n",
       "      <td>0.0</td>\n",
       "      <td>6</td>\n",
       "      <td>17</td>\n",
       "      <td>-</td>\n",
       "    </tr>\n",
       "    <tr>\n",
       "      <th>4</th>\n",
       "      <td>2020-03-30 00:00:00</td>\n",
       "      <td>30.0</td>\n",
       "      <td>80.0</td>\n",
       "      <td>0.0</td>\n",
       "      <td>0</td>\n",
       "      <td>7</td>\n",
       "      <td>-</td>\n",
       "    </tr>\n",
       "  </tbody>\n",
       "</table>\n",
       "</div>"
      ],
      "text/plain": [
       "                 Fecha  Casos registrados Ciudad de Córdoba (acumulado)  \\\n",
       "0  2020-03-25 00:00:00                                             21.0   \n",
       "1  2020-03-26 00:00:00                                             22.0   \n",
       "2  2020-03-28 00:00:00                                             24.0   \n",
       "3  2020-03-29 00:00:00                                             30.0   \n",
       "4  2020-03-30 00:00:00                                             30.0   \n",
       "\n",
       "   Casos registrados Provincia de Córdoba (acumulado)  \\\n",
       "0                                               49.0    \n",
       "1                                               52.0    \n",
       "2                                               56.0    \n",
       "3                                               73.0    \n",
       "4                                               80.0    \n",
       "\n",
       "   Fallecidos Provincia de Córdoba (acumulado)  \\\n",
       "0                                          0.0   \n",
       "1                                          0.0   \n",
       "2                                          0.0   \n",
       "3                                          0.0   \n",
       "4                                          0.0   \n",
       "\n",
       "  Nuevos casos registrados Ciudad de Córdoba  \\\n",
       "0                                        NaN   \n",
       "1                                          1   \n",
       "2                                          2   \n",
       "3                                          6   \n",
       "4                                          0   \n",
       "\n",
       "  Nuevos casos registrados Provincia de Córdoba Notas al pie  \n",
       "0                                           NaN            -  \n",
       "1                                             3            -  \n",
       "2                                             4            -  \n",
       "3                                            17            -  \n",
       "4                                             7            -  "
      ]
     },
     "execution_count": 98,
     "metadata": {},
     "output_type": "execute_result"
    }
   ],
   "source": [
    "df.head()"
   ]
  },
  {
   "cell_type": "code",
   "execution_count": 99,
   "metadata": {
    "scrolled": true
   },
   "outputs": [
    {
     "data": {
      "text/plain": [
       "<matplotlib.axes._subplots.AxesSubplot at 0x212e47e5670>"
      ]
     },
     "execution_count": 99,
     "metadata": {},
     "output_type": "execute_result"
    },
    {
     "data": {
      "image/png": "[encoded data removed]",
      "text/plain": [
       "<Figure size 432x288 with 1 Axes>"
      ]
     },
     "metadata": {
      "needs_background": "light"
     },
     "output_type": "display_data"
    }
   ],
   "source": [
    "df.plot()"
   ]
  },
  {
   "cell_type": "code",
   "execution_count": 100,
   "metadata": {},
   "outputs": [
    {
     "data": {
      "text/plain": [
       "Index(['Fecha', 'Casos registrados Ciudad de Córdoba (acumulado)',\n",
       "       'Casos registrados Provincia de Córdoba (acumulado)',\n",
       "       'Fallecidos Provincia de Córdoba (acumulado)',\n",
       "       'Nuevos casos registrados Ciudad de Córdoba',\n",
       "       'Nuevos casos registrados Provincia de Córdoba', 'Notas al pie'],\n",
       "      dtype='object')"
      ]
     },
     "execution_count": 100,
     "metadata": {},
     "output_type": "execute_result"
    }
   ],
   "source": [
    "df.columns"
   ]
  },
  {
   "cell_type": "code",
   "execution_count": 101,
   "metadata": {},
   "outputs": [
    {
     "name": "stdout",
     "output_type": "stream",
     "text": [
      "<class 'pandas.core.frame.DataFrame'>\n",
      "RangeIndex: 936 entries, 0 to 935\n",
      "Data columns (total 7 columns):\n",
      " #   Column                                              Non-Null Count  Dtype  \n",
      "---  ------                                              --------------  -----  \n",
      " 0   Fecha                                               935 non-null    object \n",
      " 1   Casos registrados Ciudad de Córdoba (acumulado)     523 non-null    float64\n",
      " 2   Casos registrados Provincia de Córdoba (acumulado)  523 non-null    float64\n",
      " 3   Fallecidos Provincia de Córdoba (acumulado)         523 non-null    float64\n",
      " 4   Nuevos casos registrados Ciudad de Córdoba          522 non-null    object \n",
      " 5   Nuevos casos registrados Provincia de Córdoba       522 non-null    object \n",
      " 6   Notas al pie                                        523 non-null    object \n",
      "dtypes: float64(3), object(4)\n",
      "memory usage: 51.3+ KB\n",
      "None\n"
     ]
    }
   ],
   "source": [
    "print(df.info())"
   ]
  },
  {
   "cell_type": "code",
   "execution_count": 102,
   "metadata": {},
   "outputs": [
    {
     "name": "stderr",
     "output_type": "stream",
     "text": [
      "<ipython-input-102-7c4bc5758cb0>:1: DeprecationWarning: count is deprecated. Use estimated_document_count or count_documents instead. Please note that $where must be replaced by $expr, $near must be replaced by $geoWithin with $center, and $nearSphere must be replaced by $geoWithin with $centerSphere\n",
      "  collection.count()\n"
     ]
    },
    {
     "data": {
      "text/plain": [
       "936"
      ]
     },
     "execution_count": 102,
     "metadata": {},
     "output_type": "execute_result"
    }
   ],
   "source": [
    "collection.count()"
   ]
  },
  {
   "cell_type": "code",
   "execution_count": 103,
   "metadata": {},
   "outputs": [
    {
     "data": {
      "text/html": [
       "<div>\n",
       "<style scoped>\n",
       "    .dataframe tbody tr th:only-of-type {\n",
       "        vertical-align: middle;\n",
       "    }\n",
       "\n",
       "    .dataframe tbody tr th {\n",
       "        vertical-align: top;\n",
       "    }\n",
       "\n",
       "    .dataframe thead th {\n",
       "        text-align: right;\n",
       "    }\n",
       "</style>\n",
       "<table border=\"1\" class=\"dataframe\">\n",
       "  <thead>\n",
       "    <tr style=\"text-align: right;\">\n",
       "      <th></th>\n",
       "      <th>Casos registrados Ciudad de Córdoba (acumulado)</th>\n",
       "      <th>Casos registrados Provincia de Córdoba (acumulado)</th>\n",
       "      <th>Fallecidos Provincia de Córdoba (acumulado)</th>\n",
       "    </tr>\n",
       "  </thead>\n",
       "  <tbody>\n",
       "    <tr>\n",
       "      <th>count</th>\n",
       "      <td>523.000000</td>\n",
       "      <td>523.000000</td>\n",
       "      <td>523.000000</td>\n",
       "    </tr>\n",
       "    <tr>\n",
       "      <th>mean</th>\n",
       "      <td>67234.321224</td>\n",
       "      <td>147095.239006</td>\n",
       "      <td>2150.439771</td>\n",
       "    </tr>\n",
       "    <tr>\n",
       "      <th>std</th>\n",
       "      <td>70887.425993</td>\n",
       "      <td>154812.608004</td>\n",
       "      <td>2034.191213</td>\n",
       "    </tr>\n",
       "    <tr>\n",
       "      <th>min</th>\n",
       "      <td>21.000000</td>\n",
       "      <td>49.000000</td>\n",
       "      <td>0.000000</td>\n",
       "    </tr>\n",
       "    <tr>\n",
       "      <th>25%</th>\n",
       "      <td>1176.000000</td>\n",
       "      <td>2635.000000</td>\n",
       "      <td>50.500000</td>\n",
       "    </tr>\n",
       "    <tr>\n",
       "      <th>50%</th>\n",
       "      <td>55752.000000</td>\n",
       "      <td>119513.000000</td>\n",
       "      <td>2259.000000</td>\n",
       "    </tr>\n",
       "    <tr>\n",
       "      <th>75%</th>\n",
       "      <td>100914.500000</td>\n",
       "      <td>213650.500000</td>\n",
       "      <td>3236.000000</td>\n",
       "    </tr>\n",
       "    <tr>\n",
       "      <th>max</th>\n",
       "      <td>235556.000000</td>\n",
       "      <td>506604.000000</td>\n",
       "      <td>6648.000000</td>\n",
       "    </tr>\n",
       "  </tbody>\n",
       "</table>\n",
       "</div>"
      ],
      "text/plain": [
       "       Casos registrados Ciudad de Córdoba (acumulado)  \\\n",
       "count                                       523.000000   \n",
       "mean                                      67234.321224   \n",
       "std                                       70887.425993   \n",
       "min                                          21.000000   \n",
       "25%                                        1176.000000   \n",
       "50%                                       55752.000000   \n",
       "75%                                      100914.500000   \n",
       "max                                      235556.000000   \n",
       "\n",
       "       Casos registrados Provincia de Córdoba (acumulado)  \\\n",
       "count                                         523.000000    \n",
       "mean                                       147095.239006    \n",
       "std                                        154812.608004    \n",
       "min                                            49.000000    \n",
       "25%                                          2635.000000    \n",
       "50%                                        119513.000000    \n",
       "75%                                        213650.500000    \n",
       "max                                        506604.000000    \n",
       "\n",
       "       Fallecidos Provincia de Córdoba (acumulado)  \n",
       "count                                   523.000000  \n",
       "mean                                   2150.439771  \n",
       "std                                    2034.191213  \n",
       "min                                       0.000000  \n",
       "25%                                      50.500000  \n",
       "50%                                    2259.000000  \n",
       "75%                                    3236.000000  \n",
       "max                                    6648.000000  "
      ]
     },
     "execution_count": 103,
     "metadata": {},
     "output_type": "execute_result"
    }
   ],
   "source": [
    "df.describe()"
   ]
  },
  {
   "cell_type": "markdown",
   "metadata": {},
   "source": [
    "Este archivo de excel tiene registros de \"Notas al pie\", que si los eliminamos, no hace el gráfico, por eso cuenta registros de más."
   ]
  },
  {
   "cell_type": "code",
   "execution_count": 104,
   "metadata": {},
   "outputs": [],
   "source": [
    "#Cerramos la conexión\n",
    "client.close()"
   ]
  },
  {
   "cell_type": "code",
   "execution_count": 108,
   "metadata": {},
   "outputs": [
    {
     "name": "stdout",
     "output_type": "stream",
     "text": [
      "Carga exitosa\n"
     ]
    }
   ],
   "source": [
    "#Hacemos la conexión con el excel sin las \"Notas al pie\", que nos devuelve los registros reales que existen en la BD\n",
    "#pero no podemos graficar\n",
    "client = MongoClient('localhost', 27017)\n",
    "db = client['CasosCOVID-19bis'] #cargamos la BD a la variable db\n",
    "collection = db['CasosCOVID-19bis'] #creamos la colección\n",
    "df = pd.read_excel('D:\\Cs. de Datos\\Práctica Profesionalizante\\Covid-19\\CasosCOVID-19bis.xlsx')\n",
    "data = df.to_dict('records') #conviertimos los registros en formato dict y los cargamos en la vble data\n",
    "collection.insert_many(data) #creamos la colección, insertando lo cargado en data\n",
    "print(\"Carga exitosa\")"
   ]
  },
  {
   "cell_type": "code",
   "execution_count": 109,
   "metadata": {},
   "outputs": [
    {
     "name": "stdout",
     "output_type": "stream",
     "text": [
      "         Fecha  Casos registrados Ciudad de Córdoba (acumulado)  \\\n",
      "0   2020-03-25                                               21   \n",
      "1   2020-03-26                                               22   \n",
      "2   2020-03-28                                               24   \n",
      "3   2020-03-29                                               30   \n",
      "4   2020-03-30                                               30   \n",
      "..         ...                                              ...   \n",
      "518 2021-08-26                                           234354   \n",
      "519 2021-08-27                                           234748   \n",
      "520 2021-08-28                                           235035   \n",
      "521 2021-08-29                                           235120   \n",
      "522 2021-08-30                                           235556   \n",
      "\n",
      "     Casos registrados Provincia de Córdoba (acumulado)  \\\n",
      "0                                                   49    \n",
      "1                                                   52    \n",
      "2                                                   56    \n",
      "3                                                   73    \n",
      "4                                                   80    \n",
      "..                                                 ...    \n",
      "518                                             504019    \n",
      "519                                             504958    \n",
      "520                                             505521    \n",
      "521                                             505723    \n",
      "522                                             506604    \n",
      "\n",
      "     Fallecidos Provincia de Córdoba (acumulado)  \\\n",
      "0                                              0   \n",
      "1                                              0   \n",
      "2                                              0   \n",
      "3                                              0   \n",
      "4                                              0   \n",
      "..                                           ...   \n",
      "518                                         6575   \n",
      "519                                         6594   \n",
      "520                                         6608   \n",
      "521                                         6631   \n",
      "522                                         6648   \n",
      "\n",
      "    Nuevos casos registrados Ciudad de Córdoba  \\\n",
      "0                                          NaN   \n",
      "1                                            1   \n",
      "2                                            2   \n",
      "3                                            6   \n",
      "4                                            0   \n",
      "..                                         ...   \n",
      "518                                        420   \n",
      "519                                        394   \n",
      "520                                        287   \n",
      "521                                         85   \n",
      "522                                        436   \n",
      "\n",
      "    Nuevos casos registrados Provincia de Córdoba  \\\n",
      "0                                             NaN   \n",
      "1                                               3   \n",
      "2                                               4   \n",
      "3                                              17   \n",
      "4                                               7   \n",
      "..                                            ...   \n",
      "518                                           924   \n",
      "519                                           929   \n",
      "520                                           547   \n",
      "521                                           196   \n",
      "522                                           867   \n",
      "\n",
      "     Fallecidos por día Provincia de Córdoba  \n",
      "0                                          0  \n",
      "1                                          0  \n",
      "2                                          0  \n",
      "3                                          0  \n",
      "4                                          0  \n",
      "..                                       ...  \n",
      "518                                       14  \n",
      "519                                       19  \n",
      "520                                       14  \n",
      "521                                       23  \n",
      "522                                       17  \n",
      "\n",
      "[523 rows x 7 columns]\n"
     ]
    }
   ],
   "source": [
    "print(df)"
   ]
  },
  {
   "cell_type": "code",
   "execution_count": 110,
   "metadata": {},
   "outputs": [
    {
     "data": {
      "text/html": [
       "<div>\n",
       "<style scoped>\n",
       "    .dataframe tbody tr th:only-of-type {\n",
       "        vertical-align: middle;\n",
       "    }\n",
       "\n",
       "    .dataframe tbody tr th {\n",
       "        vertical-align: top;\n",
       "    }\n",
       "\n",
       "    .dataframe thead th {\n",
       "        text-align: right;\n",
       "    }\n",
       "</style>\n",
       "<table border=\"1\" class=\"dataframe\">\n",
       "  <thead>\n",
       "    <tr style=\"text-align: right;\">\n",
       "      <th></th>\n",
       "      <th>Fecha</th>\n",
       "      <th>Casos registrados Ciudad de Córdoba (acumulado)</th>\n",
       "      <th>Casos registrados Provincia de Córdoba (acumulado)</th>\n",
       "      <th>Fallecidos Provincia de Córdoba (acumulado)</th>\n",
       "      <th>Nuevos casos registrados Ciudad de Córdoba</th>\n",
       "      <th>Nuevos casos registrados Provincia de Córdoba</th>\n",
       "      <th>Fallecidos por día Provincia de Córdoba</th>\n",
       "    </tr>\n",
       "  </thead>\n",
       "  <tbody>\n",
       "    <tr>\n",
       "      <th>0</th>\n",
       "      <td>2020-03-25</td>\n",
       "      <td>21</td>\n",
       "      <td>49</td>\n",
       "      <td>0</td>\n",
       "      <td>NaN</td>\n",
       "      <td>NaN</td>\n",
       "      <td>0</td>\n",
       "    </tr>\n",
       "    <tr>\n",
       "      <th>1</th>\n",
       "      <td>2020-03-26</td>\n",
       "      <td>22</td>\n",
       "      <td>52</td>\n",
       "      <td>0</td>\n",
       "      <td>1</td>\n",
       "      <td>3</td>\n",
       "      <td>0</td>\n",
       "    </tr>\n",
       "    <tr>\n",
       "      <th>2</th>\n",
       "      <td>2020-03-28</td>\n",
       "      <td>24</td>\n",
       "      <td>56</td>\n",
       "      <td>0</td>\n",
       "      <td>2</td>\n",
       "      <td>4</td>\n",
       "      <td>0</td>\n",
       "    </tr>\n",
       "    <tr>\n",
       "      <th>3</th>\n",
       "      <td>2020-03-29</td>\n",
       "      <td>30</td>\n",
       "      <td>73</td>\n",
       "      <td>0</td>\n",
       "      <td>6</td>\n",
       "      <td>17</td>\n",
       "      <td>0</td>\n",
       "    </tr>\n",
       "    <tr>\n",
       "      <th>4</th>\n",
       "      <td>2020-03-30</td>\n",
       "      <td>30</td>\n",
       "      <td>80</td>\n",
       "      <td>0</td>\n",
       "      <td>0</td>\n",
       "      <td>7</td>\n",
       "      <td>0</td>\n",
       "    </tr>\n",
       "  </tbody>\n",
       "</table>\n",
       "</div>"
      ],
      "text/plain": [
       "       Fecha  Casos registrados Ciudad de Córdoba (acumulado)  \\\n",
       "0 2020-03-25                                               21   \n",
       "1 2020-03-26                                               22   \n",
       "2 2020-03-28                                               24   \n",
       "3 2020-03-29                                               30   \n",
       "4 2020-03-30                                               30   \n",
       "\n",
       "   Casos registrados Provincia de Córdoba (acumulado)  \\\n",
       "0                                                 49    \n",
       "1                                                 52    \n",
       "2                                                 56    \n",
       "3                                                 73    \n",
       "4                                                 80    \n",
       "\n",
       "   Fallecidos Provincia de Córdoba (acumulado)  \\\n",
       "0                                            0   \n",
       "1                                            0   \n",
       "2                                            0   \n",
       "3                                            0   \n",
       "4                                            0   \n",
       "\n",
       "  Nuevos casos registrados Ciudad de Córdoba  \\\n",
       "0                                        NaN   \n",
       "1                                          1   \n",
       "2                                          2   \n",
       "3                                          6   \n",
       "4                                          0   \n",
       "\n",
       "  Nuevos casos registrados Provincia de Córdoba  \\\n",
       "0                                           NaN   \n",
       "1                                             3   \n",
       "2                                             4   \n",
       "3                                            17   \n",
       "4                                             7   \n",
       "\n",
       "   Fallecidos por día Provincia de Córdoba  \n",
       "0                                        0  \n",
       "1                                        0  \n",
       "2                                        0  \n",
       "3                                        0  \n",
       "4                                        0  "
      ]
     },
     "execution_count": 110,
     "metadata": {},
     "output_type": "execute_result"
    }
   ],
   "source": [
    "df.head()"
   ]
  },
  {
   "cell_type": "code",
   "execution_count": 111,
   "metadata": {},
   "outputs": [
    {
     "name": "stderr",
     "output_type": "stream",
     "text": [
      "<ipython-input-111-7c4bc5758cb0>:1: DeprecationWarning: count is deprecated. Use estimated_document_count or count_documents instead. Please note that $where must be replaced by $expr, $near must be replaced by $geoWithin with $center, and $nearSphere must be replaced by $geoWithin with $centerSphere\n",
      "  collection.count()\n"
     ]
    },
    {
     "data": {
      "text/plain": [
       "523"
      ]
     },
     "execution_count": 111,
     "metadata": {},
     "output_type": "execute_result"
    }
   ],
   "source": [
    "collection.count()"
   ]
  },
  {
   "cell_type": "code",
   "execution_count": 112,
   "metadata": {},
   "outputs": [
    {
     "data": {
      "text/html": [
       "<div>\n",
       "<style scoped>\n",
       "    .dataframe tbody tr th:only-of-type {\n",
       "        vertical-align: middle;\n",
       "    }\n",
       "\n",
       "    .dataframe tbody tr th {\n",
       "        vertical-align: top;\n",
       "    }\n",
       "\n",
       "    .dataframe thead th {\n",
       "        text-align: right;\n",
       "    }\n",
       "</style>\n",
       "<table border=\"1\" class=\"dataframe\">\n",
       "  <thead>\n",
       "    <tr style=\"text-align: right;\">\n",
       "      <th></th>\n",
       "      <th>Casos registrados Ciudad de Córdoba (acumulado)</th>\n",
       "      <th>Casos registrados Provincia de Córdoba (acumulado)</th>\n",
       "      <th>Fallecidos Provincia de Córdoba (acumulado)</th>\n",
       "      <th>Fallecidos por día Provincia de Córdoba</th>\n",
       "    </tr>\n",
       "  </thead>\n",
       "  <tbody>\n",
       "    <tr>\n",
       "      <th>count</th>\n",
       "      <td>523.000000</td>\n",
       "      <td>523.000000</td>\n",
       "      <td>523.000000</td>\n",
       "      <td>523.000000</td>\n",
       "    </tr>\n",
       "    <tr>\n",
       "      <th>mean</th>\n",
       "      <td>67234.321224</td>\n",
       "      <td>147095.239006</td>\n",
       "      <td>2150.439771</td>\n",
       "      <td>12.619503</td>\n",
       "    </tr>\n",
       "    <tr>\n",
       "      <th>std</th>\n",
       "      <td>70887.425993</td>\n",
       "      <td>154812.608004</td>\n",
       "      <td>2034.191213</td>\n",
       "      <td>15.246084</td>\n",
       "    </tr>\n",
       "    <tr>\n",
       "      <th>min</th>\n",
       "      <td>21.000000</td>\n",
       "      <td>49.000000</td>\n",
       "      <td>0.000000</td>\n",
       "      <td>0.000000</td>\n",
       "    </tr>\n",
       "    <tr>\n",
       "      <th>25%</th>\n",
       "      <td>1176.000000</td>\n",
       "      <td>2635.000000</td>\n",
       "      <td>50.500000</td>\n",
       "      <td>1.000000</td>\n",
       "    </tr>\n",
       "    <tr>\n",
       "      <th>50%</th>\n",
       "      <td>55752.000000</td>\n",
       "      <td>119513.000000</td>\n",
       "      <td>2259.000000</td>\n",
       "      <td>7.000000</td>\n",
       "    </tr>\n",
       "    <tr>\n",
       "      <th>75%</th>\n",
       "      <td>100914.500000</td>\n",
       "      <td>213650.500000</td>\n",
       "      <td>3236.000000</td>\n",
       "      <td>20.000000</td>\n",
       "    </tr>\n",
       "    <tr>\n",
       "      <th>max</th>\n",
       "      <td>235556.000000</td>\n",
       "      <td>506604.000000</td>\n",
       "      <td>6648.000000</td>\n",
       "      <td>95.000000</td>\n",
       "    </tr>\n",
       "  </tbody>\n",
       "</table>\n",
       "</div>"
      ],
      "text/plain": [
       "       Casos registrados Ciudad de Córdoba (acumulado)  \\\n",
       "count                                       523.000000   \n",
       "mean                                      67234.321224   \n",
       "std                                       70887.425993   \n",
       "min                                          21.000000   \n",
       "25%                                        1176.000000   \n",
       "50%                                       55752.000000   \n",
       "75%                                      100914.500000   \n",
       "max                                      235556.000000   \n",
       "\n",
       "       Casos registrados Provincia de Córdoba (acumulado)  \\\n",
       "count                                         523.000000    \n",
       "mean                                       147095.239006    \n",
       "std                                        154812.608004    \n",
       "min                                            49.000000    \n",
       "25%                                          2635.000000    \n",
       "50%                                        119513.000000    \n",
       "75%                                        213650.500000    \n",
       "max                                        506604.000000    \n",
       "\n",
       "       Fallecidos Provincia de Córdoba (acumulado)  \\\n",
       "count                                   523.000000   \n",
       "mean                                   2150.439771   \n",
       "std                                    2034.191213   \n",
       "min                                       0.000000   \n",
       "25%                                      50.500000   \n",
       "50%                                    2259.000000   \n",
       "75%                                    3236.000000   \n",
       "max                                    6648.000000   \n",
       "\n",
       "       Fallecidos por día Provincia de Córdoba  \n",
       "count                               523.000000  \n",
       "mean                                 12.619503  \n",
       "std                                  15.246084  \n",
       "min                                   0.000000  \n",
       "25%                                   1.000000  \n",
       "50%                                   7.000000  \n",
       "75%                                  20.000000  \n",
       "max                                  95.000000  "
      ]
     },
     "execution_count": 112,
     "metadata": {},
     "output_type": "execute_result"
    }
   ],
   "source": [
    "df.describe()"
   ]
  },
  {
   "cell_type": "code",
   "execution_count": 143,
   "metadata": {},
   "outputs": [
    {
     "data": {
      "text/plain": [
       "<matplotlib.axes._subplots.AxesSubplot at 0x212e7651d60>"
      ]
     },
     "execution_count": 143,
     "metadata": {},
     "output_type": "execute_result"
    },
    {
     "data": {
      "image/png": "[encoded data removed]",
      "text/plain": [
       "<Figure size 432x288 with 1 Axes>"
      ]
     },
     "metadata": {
      "needs_background": "light"
     },
     "output_type": "display_data"
    }
   ],
   "source": [
    "df.plot.scatter('Casos registrados Provincia de Córdoba (acumulado)', 'Fallecidos por día Provincia de Córdoba')\n",
    "#diagrama de dispersión"
   ]
  },
  {
   "cell_type": "code",
   "execution_count": 144,
   "metadata": {},
   "outputs": [
    {
     "data": {
      "text/plain": [
       "<matplotlib.axes._subplots.AxesSubplot at 0x212e76124c0>"
      ]
     },
     "execution_count": 144,
     "metadata": {},
     "output_type": "execute_result"
    },
    {
     "data": {
      "image/png": "[encoded data removed]",
      "text/plain": [
       "<Figure size 432x288 with 1 Axes>"
      ]
     },
     "metadata": {
      "needs_background": "light"
     },
     "output_type": "display_data"
    }
   ],
   "source": [
    "df.plot.bar('Casos registrados Provincia de Córdoba (acumulado)', 'Fallecidos por día Provincia de Córdoba')\n",
    "#diagrama de barra"
   ]
  },
  {
   "cell_type": "code",
   "execution_count": 137,
   "metadata": {},
   "outputs": [],
   "source": [
    "client.close()"
   ]
  },
  {
   "cell_type": "code",
   "execution_count": null,
   "metadata": {},
   "outputs": [],
   "source": []
  }
 ],
 "metadata": {
  "kernelspec": {
   "display_name": "Python 3",
   "language": "python",
   "name": "python3"
  },
  "language_info": {
   "codemirror_mode": {
    "name": "ipython",
    "version": 3
   },
   "file_extension": ".py",
   "mimetype": "text/x-python",
   "name": "python",
   "nbconvert_exporter": "python",
   "pygments_lexer": "ipython3",
   "version": "3.8.3"
  }
 },
 "nbformat": 4,
 "nbformat_minor": 4
}
